{
  "nbformat": 4,
  "nbformat_minor": 0,
  "metadata": {
    "colab": {
      "name": "Implementation of OOP.ipynb",
      "provenance": [],
      "collapsed_sections": [],
      "authorship_tag": "ABX9TyNdn/aFmIe//bO89MVOwx4B",
      "include_colab_link": true
    },
    "kernelspec": {
      "name": "python3",
      "display_name": "Python 3"
    },
    "language_info": {
      "name": "python"
    }
  },
  "cells": [
    {
      "cell_type": "markdown",
      "metadata": {
        "id": "view-in-github",
        "colab_type": "text"
      },
      "source": [
        "<a href=\"https://colab.research.google.com/github/Yashthon/OOP-in-Python/blob/main/Implementation_of_OOP.ipynb\" target=\"_parent\"><img src=\"https://colab.research.google.com/assets/colab-badge.svg\" alt=\"Open In Colab\"/></a>"
      ]
    },
    {
      "cell_type": "markdown",
      "source": [
        "# 1. Execute following code and write your observations:"
      ],
      "metadata": {
        "id": "oy6F5iyIsg7u"
      }
    },
    {
      "cell_type": "code",
      "execution_count": null,
      "metadata": {
        "id": "iQowvMDRrT-G"
      },
      "outputs": [],
      "source": [
        "class emptyclass:\n",
        "  \"\"\"\n",
        "  This is an empty class\n",
        "  \"\"\"\n",
        "  pass"
      ]
    },
    {
      "cell_type": "code",
      "source": [
        "class numberclass:\n",
        "  num = 5\n",
        "n1 = numberclass()\n",
        "print(\"The numner in the class is \",n1.num)\n",
        "# printing number using class"
      ],
      "metadata": {
        "colab": {
          "base_uri": "https://localhost:8080/"
        },
        "id": "mV3qrsiGtGLK",
        "outputId": "7bfcc035-5a02-403d-ac21-1b6148f84d6c"
      },
      "execution_count": null,
      "outputs": [
        {
          "output_type": "stream",
          "name": "stdout",
          "text": [
            "The numner in the class is  5\n"
          ]
        }
      ]
    },
    {
      "cell_type": "code",
      "source": [
        "class withfunction:\n",
        "  num = 200\n",
        "  def lab (self):\n",
        "    print(\"This is the lab session\")\n",
        "  def __init__(self,num1,num2):\n",
        "    self.num1=num1\n",
        "    self.num2=num2"
      ],
      "metadata": {
        "id": "vzK9aVDutZVm"
      },
      "execution_count": null,
      "outputs": []
    },
    {
      "cell_type": "code",
      "source": [
        "withobject = withfunction(500,1000)\n",
        "print(withobject.num)"
      ],
      "metadata": {
        "colab": {
          "base_uri": "https://localhost:8080/"
        },
        "id": "kT4zVbdZt7q3",
        "outputId": "36e64cb6-491e-4fbf-cb15-4dfca9252a2a"
      },
      "execution_count": null,
      "outputs": [
        {
          "output_type": "stream",
          "name": "stdout",
          "text": [
            "200\n"
          ]
        }
      ]
    },
    {
      "cell_type": "code",
      "source": [
        "withobject.num=2000 #modify the object property\n",
        "print(withobject.num)"
      ],
      "metadata": {
        "colab": {
          "base_uri": "https://localhost:8080/"
        },
        "id": "4IMufmG-uMqO",
        "outputId": "0d72760e-6169-47f0-dea8-2e874609cf56"
      },
      "execution_count": null,
      "outputs": [
        {
          "output_type": "stream",
          "name": "stdout",
          "text": [
            "2000\n"
          ]
        }
      ]
    },
    {
      "cell_type": "code",
      "source": [
        "del withobject.num\n",
        "print(withobject.num)\n"
      ],
      "metadata": {
        "colab": {
          "base_uri": "https://localhost:8080/"
        },
        "id": "bTpuBFgJuQVZ",
        "outputId": "7b719ca3-03f5-42a0-af44-9458bf58f579"
      },
      "execution_count": null,
      "outputs": [
        {
          "output_type": "stream",
          "name": "stdout",
          "text": [
            "200\n"
          ]
        }
      ]
    },
    {
      "cell_type": "code",
      "source": [
        "withobject.lab()\n",
        "print(withobject.num1)"
      ],
      "metadata": {
        "colab": {
          "base_uri": "https://localhost:8080/"
        },
        "id": "OZikdkXCuT-v",
        "outputId": "7349a7d6-c299-45b0-dec1-fb5910928405"
      },
      "execution_count": null,
      "outputs": [
        {
          "output_type": "stream",
          "name": "stdout",
          "text": [
            "This is the lab session\n",
            "500\n"
          ]
        }
      ]
    },
    {
      "cell_type": "code",
      "source": [
        "print(withobject.num2)"
      ],
      "metadata": {
        "colab": {
          "base_uri": "https://localhost:8080/"
        },
        "id": "1ixMrVQ-uX8k",
        "outputId": "b93dec45-561e-416c-8758-1ed05d700ed4"
      },
      "execution_count": null,
      "outputs": [
        {
          "output_type": "stream",
          "name": "stdout",
          "text": [
            "1000\n"
          ]
        }
      ]
    },
    {
      "cell_type": "code",
      "source": [
        "#Inheritance\n",
        "#Single inheritance\n",
        "class Parent:\n",
        "  def parentfunc(self):\n",
        "    print(\"This is a parent function\")\n",
        "class Child(Parent):\n",
        "  def childfunct(self):\n",
        "    print(\"This is a child function\")"
      ],
      "metadata": {
        "id": "x6WEMcZiudI0"
      },
      "execution_count": null,
      "outputs": []
    },
    {
      "cell_type": "code",
      "source": [
        "ch = Child()\n",
        "ch.parentfunc()\n",
        "ch.childfunct()"
      ],
      "metadata": {
        "colab": {
          "base_uri": "https://localhost:8080/"
        },
        "id": "bVioEn0Fu4y1",
        "outputId": "5aa08eb1-b79e-410f-bde7-7ac8c0c6eb5c"
      },
      "execution_count": null,
      "outputs": [
        {
          "output_type": "stream",
          "name": "stdout",
          "text": [
            "This is a parent function\n",
            "This is a child function\n"
          ]
        }
      ]
    },
    {
      "cell_type": "code",
      "source": [
        "# Multiple inheritence\n",
        "class Parent1:\n",
        "  def parentfunc1(self):\n",
        "    print(\"This is a parent1 function\")\n",
        "class Parent2:\n",
        "  def parentfunc2(self):\n",
        "    print(\"This is a parent2 function\")\n",
        "class Child1(Parent1,Parent2):\n",
        "  def childfunct1(self):\n",
        "    print(\"This is a child function\")"
      ],
      "metadata": {
        "id": "rfgiq27yvf_x"
      },
      "execution_count": null,
      "outputs": []
    },
    {
      "cell_type": "code",
      "source": [
        "ch1=Child1()\n",
        "ch1.parentfunc1()\n",
        "ch1.parentfunc2()\n",
        "ch1.childfunct1()"
      ],
      "metadata": {
        "colab": {
          "base_uri": "https://localhost:8080/"
        },
        "id": "2F17ZpkHwGeY",
        "outputId": "9084c1b2-c3fc-494b-b9e7-f7d008a30a49"
      },
      "execution_count": null,
      "outputs": [
        {
          "output_type": "stream",
          "name": "stdout",
          "text": [
            "This is a parent1 function\n",
            "This is a parent2 function\n",
            "This is a child function\n"
          ]
        }
      ]
    },
    {
      "cell_type": "code",
      "source": [
        "# Multilevel inheritence\n",
        "class Parent:\n",
        "  def parentfunct(self):\n",
        "    print(\"This function is of parent class\")\n",
        "class Child1(Parent):\n",
        "  def childfunct1(self):\n",
        "    print(\"This function is of Child 1 class\")\n",
        "class Child2(Child1):\n",
        "  def childfunct2(self):\n",
        "    print(\"This function is of Child 2 class\")"
      ],
      "metadata": {
        "id": "1DR-7zNZwL8r"
      },
      "execution_count": null,
      "outputs": []
    },
    {
      "cell_type": "code",
      "source": [
        "child2ob = Child2()\n",
        "child2ob.parentfunct()\n",
        "child2ob.childfunc1()\n",
        "child2ob.childfunc2()"
      ],
      "metadata": {
        "colab": {
          "base_uri": "https://localhost:8080/",
          "height": 235
        },
        "id": "qeuXapkZyXvZ",
        "outputId": "bf71ef84-202e-490a-f350-dc20901a4f96"
      },
      "execution_count": null,
      "outputs": [
        {
          "output_type": "stream",
          "name": "stdout",
          "text": [
            "This function is of parent class\n"
          ]
        },
        {
          "output_type": "error",
          "ename": "AttributeError",
          "evalue": "ignored",
          "traceback": [
            "\u001b[0;31m---------------------------------------------------------------------------\u001b[0m",
            "\u001b[0;31mAttributeError\u001b[0m                            Traceback (most recent call last)",
            "\u001b[0;32m<ipython-input-14-d3a6c9e827a5>\u001b[0m in \u001b[0;36m<module>\u001b[0;34m()\u001b[0m\n\u001b[1;32m      1\u001b[0m \u001b[0mchild2ob\u001b[0m \u001b[0;34m=\u001b[0m \u001b[0mChild2\u001b[0m\u001b[0;34m(\u001b[0m\u001b[0;34m)\u001b[0m\u001b[0;34m\u001b[0m\u001b[0;34m\u001b[0m\u001b[0m\n\u001b[1;32m      2\u001b[0m \u001b[0mchild2ob\u001b[0m\u001b[0;34m.\u001b[0m\u001b[0mparentfunct\u001b[0m\u001b[0;34m(\u001b[0m\u001b[0;34m)\u001b[0m\u001b[0;34m\u001b[0m\u001b[0;34m\u001b[0m\u001b[0m\n\u001b[0;32m----> 3\u001b[0;31m \u001b[0mchild2ob\u001b[0m\u001b[0;34m.\u001b[0m\u001b[0mchildfunc1\u001b[0m\u001b[0;34m(\u001b[0m\u001b[0;34m)\u001b[0m\u001b[0;34m\u001b[0m\u001b[0;34m\u001b[0m\u001b[0m\n\u001b[0m\u001b[1;32m      4\u001b[0m \u001b[0mchild2ob\u001b[0m\u001b[0;34m.\u001b[0m\u001b[0mchildfunc2\u001b[0m\u001b[0;34m(\u001b[0m\u001b[0;34m)\u001b[0m\u001b[0;34m\u001b[0m\u001b[0;34m\u001b[0m\u001b[0m\n",
            "\u001b[0;31mAttributeError\u001b[0m: 'Child2' object has no attribute 'childfunc1'"
          ]
        }
      ]
    },
    {
      "cell_type": "code",
      "source": [
        "class Parent:\n",
        "  def parentfunc(self):\n",
        "    print(\"This is a parent function of parent class\")\n",
        "class Child1(Parent):\n",
        "  def childfunc1(self):\n",
        "    print(\"This is a child 1 function\")\n",
        "class Child2(Child1):\n",
        "  def childfunc2(self):\n",
        "    print(\"This is a child 2 function\")"
      ],
      "metadata": {
        "id": "hi-pym1Oze8k"
      },
      "execution_count": null,
      "outputs": []
    },
    {
      "cell_type": "code",
      "source": [
        "child1ob = Child1()\n",
        "child1ob.parentfunc()\n",
        "child1ob.childfunc1()\n",
        "child2ob=Child2()\n",
        "child2ob.parentfunc()\n",
        "child2ob.childfunc2()"
      ],
      "metadata": {
        "colab": {
          "base_uri": "https://localhost:8080/"
        },
        "id": "eXQXVyeUzxDW",
        "outputId": "b3a65d4b-8949-4778-80ea-b1322f4f5a23"
      },
      "execution_count": null,
      "outputs": [
        {
          "output_type": "stream",
          "name": "stdout",
          "text": [
            "This is a parent function of parent class\n",
            "This is a child 1 function\n",
            "This is a parent function of parent class\n",
            "This is a child 2 function\n"
          ]
        }
      ]
    },
    {
      "cell_type": "code",
      "source": [
        "# Super function\n",
        "class Parent:\n",
        "  def __init__(self,text):\n",
        "    print(text,\"Parent class constructior\")\n",
        "class Child(Parent):\n",
        "  def __init__(self):\n",
        "    print(\"This is a child class constructor\")\n",
        "    super().__init__(\"Hello Everyone\")\n",
        "childob = Child()"
      ],
      "metadata": {
        "colab": {
          "base_uri": "https://localhost:8080/"
        },
        "id": "dZqjx5LG0meC",
        "outputId": "ba16fa47-be28-468d-f0b8-ce8564e009eb"
      },
      "execution_count": null,
      "outputs": [
        {
          "output_type": "stream",
          "name": "stdout",
          "text": [
            "This is a child class constructor\n",
            "Hello Everyone Parent class constructior\n"
          ]
        }
      ]
    },
    {
      "cell_type": "markdown",
      "source": [
        "# 2. Refer to Learn Python in 7 days----From page 228 to 257, solve all examples and write your observations."
      ],
      "metadata": {
        "id": "DnfArkoL10Cu"
      }
    },
    {
      "cell_type": "code",
      "source": [
        "# Instance variables\n",
        "class Leapx_org():\n",
        "  pass\n",
        "L_obj1 = Leapx_org()\n",
        "L_obj2 = Leapx_org()\n",
        "L_obj1.f_name = \"Mohit\"\n",
        "L_obj1.L_name = \"RAJ\"\n",
        "L_obj1.pamount = \"60000\"\n",
        "L_obj2.f_name = \"Ravender\"\n",
        "L_obj2.L_name = \"Dahiya\"\n",
        "L_obj2.pamount = \"70000\"\n",
        "print(L_obj1.f_name+ \" \"+ L_obj1.L_name)\n",
        "print(L_obj2.f_name+ \" \"+ L_obj2.L_name)"
      ],
      "metadata": {
        "colab": {
          "base_uri": "https://localhost:8080/"
        },
        "id": "IglVsOCr162c",
        "outputId": "d2cf4098-3e93-49b9-d719-597bc758262b"
      },
      "execution_count": null,
      "outputs": [
        {
          "output_type": "stream",
          "name": "stdout",
          "text": [
            "Mohit RAJ\n",
            "Ravender Dahiya\n"
          ]
        }
      ]
    },
    {
      "cell_type": "code",
      "source": [
        "# The __init__ method\n",
        "class Leapx_org():\n",
        "  def __init__(self,first,last,pay):\n",
        "    self.f_name = first\n",
        "    self.l_name = last\n",
        "    self.pay_amt = pay\n",
        "    self.full_name = first+\" \"+last\n",
        "L_obj1 = Leapx_org('mohit', 'RAJ', 60000)\n",
        "L_obj2 = Leapx_org('Ravender', 'Dahiya',70000)\n",
        "print(L_obj1.full_name)\n",
        "print(L_obj2.full_name)"
      ],
      "metadata": {
        "colab": {
          "base_uri": "https://localhost:8080/"
        },
        "id": "rdiBE_5y3CkR",
        "outputId": "93e85deb-b78b-4b50-be05-03060fa55a4e"
      },
      "execution_count": null,
      "outputs": [
        {
          "output_type": "stream",
          "name": "stdout",
          "text": [
            "mohit RAJ\n",
            "Ravender Dahiya\n"
          ]
        }
      ]
    },
    {
      "cell_type": "code",
      "source": [
        "class Leapx_org():\n",
        "  def  __init__(self,first,last,pay):\n",
        "    self.f_name = first\n",
        "    self.l_name = last\n",
        "    self.pay_amt = pay\n",
        "    self.full_name = first+\" \"+last\n",
        "  def make_email(self):\n",
        "    return self.f_name+self.l_name+\"@gmail.com\"\n",
        "L_obj1 = Leapx_org('yash', 'prajapati',90000)\n",
        "L_obj2 = Leapx_org('janvi','prajapati',90000)\n",
        "print(L_obj1.full_name)\n",
        "print(L_obj1.make_email())\n",
        "print(L_obj2.full_name)\n",
        "print(L_obj2.make_email())"
      ],
      "metadata": {
        "colab": {
          "base_uri": "https://localhost:8080/"
        },
        "id": "ekUz24vt3XWr",
        "outputId": "d3acd0a2-50c1-421d-969a-a6170a619820"
      },
      "execution_count": null,
      "outputs": [
        {
          "output_type": "stream",
          "name": "stdout",
          "text": [
            "yash prajapati\n",
            "yashprajapati@gmail.com\n",
            "janvi prajapati\n",
            "janviprajapati@gmail.com\n"
          ]
        }
      ]
    },
    {
      "cell_type": "code",
      "source": [
        "class Leapx_org():\n",
        "  def  __init__(self,first,last,pay):\n",
        "    self.f_name = first\n",
        "    self.l_name = last\n",
        "    self.pay_amt = pay\n",
        "    self.full_name = first+\" \"+last\n",
        "  def make_email(self):\n",
        "    return self.f_name+self.l_name+\"@gmail.com\"\n",
        "L_obj1 = Leapx_org('yash', 'prajapati',90000)\n",
        "print(L_obj1.make_email())"
      ],
      "metadata": {
        "colab": {
          "base_uri": "https://localhost:8080/"
        },
        "id": "4qav14zM4ZUi",
        "outputId": "b971bd25-fe41-4c26-af56-91d9d570d0d4"
      },
      "execution_count": null,
      "outputs": [
        {
          "output_type": "stream",
          "name": "stdout",
          "text": [
            "yashprajapati@gmail.com\n"
          ]
        }
      ]
    },
    {
      "cell_type": "code",
      "source": [
        "class Leapx_org():\n",
        "  def  __init__(self,first,last,pay):\n",
        "    self.f_name = first\n",
        "    self.l_name = last\n",
        "    self.pay_amt = pay\n",
        "    self.full_name = first+\" \"+last\n",
        "  def make_email(self):\n",
        "    return self.f_name+self.l_name+\"@gmail.com\"\n",
        "L_obj1 = Leapx_org('yash', 'prajapati',90000)\n",
        "# print(L_obj1.make_email()) # able to print using this statement also\n",
        "print(Leapx_org.make_email(L_obj1))"
      ],
      "metadata": {
        "colab": {
          "base_uri": "https://localhost:8080/"
        },
        "id": "2P0fepT478IK",
        "outputId": "10465f93-b9a5-4dc4-cada-1e6e5f76d2b8"
      },
      "execution_count": null,
      "outputs": [
        {
          "output_type": "stream",
          "name": "stdout",
          "text": [
            "yashprajapati@gmail.com\n"
          ]
        }
      ]
    },
    {
      "cell_type": "code",
      "source": [
        "# Class variables\n",
        "class Leapx_org():\n",
        "  def  __init__(self,first,last,pay):\n",
        "    self.f_name = first\n",
        "    self.l_name = last\n",
        "    self.pay_amt = pay\n",
        "    self.full_name = first+\" \"+last\n",
        "  def make_email(self):\n",
        "    return self.f_name+self.l_name+\"@gmail.com\"\n",
        "  def incrementpay(self):\n",
        "    self.pay_amt = int(self.pay_amt*1.20)\n",
        "    return self.pay_amt\n",
        "L_obj1 = Leapx_org('yash', 'prajapati',90000)\n",
        "L_obj2 = Leapx_org('janvi', 'prajapati',100000)\n",
        "print(L_obj1.pay_amt)\n",
        "print(L_obj1.incrementpay)"
      ],
      "metadata": {
        "colab": {
          "base_uri": "https://localhost:8080/"
        },
        "id": "BwZOcS158Nmx",
        "outputId": "be478a48-97c5-4a78-a600-0bb29466754f"
      },
      "execution_count": null,
      "outputs": [
        {
          "output_type": "stream",
          "name": "stdout",
          "text": [
            "90000\n",
            "<bound method Leapx_org.incrementpay of <__main__.Leapx_org object at 0x7f613ae5bcd0>>\n"
          ]
        }
      ]
    },
    {
      "cell_type": "code",
      "source": [
        "class Leapx_org():\n",
        "  mul_num = 1.20\n",
        "  def __init__(self,first,last,pay):\n",
        "    self.f_name = first\n",
        "    self.l_name = last\n",
        "    self.pay_amt = pay\n",
        "    self.full_name = first+\" \"+last\n",
        "  def make_email(self):\n",
        "    return self.f_name+self.l_name+\"@gmail.com\"\n",
        "  def incrementpay(self):\n",
        "    self.pay_amt = int(self.pay_amt*self.mul_num)\n",
        "    return self.pay_amt\n",
        "L_obj1 = Leapx_org('Yash','Prajapati',90000)\n",
        "L_obj2 = Leapx_org('Janvi','Prajapati',10000)\n",
        "print(L_obj1.pay_amt)\n",
        "print(L_obj1.incrementpay())\n",
        "print(L_obj1.mul_num)\n",
        "print(L_obj2.mul_num)\n",
        "print(Leapx_org.mul_num)"
      ],
      "metadata": {
        "colab": {
          "base_uri": "https://localhost:8080/"
        },
        "id": "y_9O7fEu9Mot",
        "outputId": "a4ffbd29-d0f9-4713-ea05-cf5380dd66e6"
      },
      "execution_count": null,
      "outputs": [
        {
          "output_type": "stream",
          "name": "stdout",
          "text": [
            "90000\n",
            "108000\n",
            "1.2\n",
            "1.2\n",
            "1.2\n"
          ]
        }
      ]
    },
    {
      "cell_type": "code",
      "source": [
        "class Leapx_org():\n",
        "  mul_num = 1.20\n",
        "  def __init__(self,first,last,pay):\n",
        "    self.f_name = first\n",
        "    self.l_name = last\n",
        "    self.pay_amt = pay\n",
        "    self.full_name = first+\" \"+last\n",
        "  def make_email(self):\n",
        "    return self.f_name+self.l_name+\"@gmail.com\"\n",
        "  def incrementpay(self):\n",
        "    self.pay_amt = int(self.pay_amt*self.mul_num)\n",
        "    return self.pay_amt\n",
        "L_obj1 = Leapx_org('Yash','Prajapati',90000)\n",
        "L_obj2 = Leapx_org('Janvi','Prajapati',10000)\n",
        "print(\"instance space \",L_obj1.__dict__)\n",
        "print(\"class space \",Leapx_org.__dict__)"
      ],
      "metadata": {
        "colab": {
          "base_uri": "https://localhost:8080/"
        },
        "id": "jkLg_6kN--41",
        "outputId": "b4bf71ec-22f8-4da3-841d-7296bb50c366"
      },
      "execution_count": null,
      "outputs": [
        {
          "output_type": "stream",
          "name": "stdout",
          "text": [
            "instance space  {'f_name': 'Yash', 'l_name': 'Prajapati', 'pay_amt': 90000, 'full_name': 'Yash Prajapati'}\n",
            "class space  {'__module__': '__main__', 'mul_num': 1.2, '__init__': <function Leapx_org.__init__ at 0x7f6137370830>, 'make_email': <function Leapx_org.make_email at 0x7f6137370440>, 'incrementpay': <function Leapx_org.incrementpay at 0x7f6137370560>, '__dict__': <attribute '__dict__' of 'Leapx_org' objects>, '__weakref__': <attribute '__weakref__' of 'Leapx_org' objects>, '__doc__': None}\n"
          ]
        }
      ]
    },
    {
      "cell_type": "code",
      "source": [
        "class Leapx_org():\n",
        "  mul_num = 1.20\n",
        "  def __init__(self,first,last,pay):\n",
        "    self.f_name = first\n",
        "    self.l_name = last\n",
        "    self.pay_amt = pay\n",
        "    self.full_name = first+\" \"+last\n",
        "  def make_email(self):\n",
        "    return self.f_name+self.l_name+\"@gmail.com\"\n",
        "  def incrementpay(self):\n",
        "    self.pay_amt = int(self.pay_amt*self.mul_num)\n",
        "    return self.pay_amt\n",
        "L_obj1 = Leapx_org('Yash','Prajapati',90000)\n",
        "L_obj2 = Leapx_org('Janvi','Prajapati',10000)\n",
        "L_obj1.mul_num = 1.3\n",
        "\n",
        "print(\"instance space L_obj1 n\",L_obj1.__dict__)\n",
        "print(\"ninstance space L_obj2 n\",L_obj2.__dict__)\n",
        "print(\"nclass space n \",Leapx_org.__dict__)\n",
        "\n",
        "print(L_obj1.mul_num)\n",
        "print(L_obj2.mul_num)\n",
        "print(Leapx_org.mul_num)"
      ],
      "metadata": {
        "colab": {
          "base_uri": "https://localhost:8080/"
        },
        "id": "uoVIjlLO_0uZ",
        "outputId": "8e5cedd0-4f50-41f8-fde3-f430a57632e5"
      },
      "execution_count": null,
      "outputs": [
        {
          "output_type": "stream",
          "name": "stdout",
          "text": [
            "instance space L_obj1 n {'f_name': 'Yash', 'l_name': 'Prajapati', 'pay_amt': 90000, 'full_name': 'Yash Prajapati', 'mul_num': 1.3}\n",
            "ninstance space L_obj2 n {'f_name': 'Janvi', 'l_name': 'Prajapati', 'pay_amt': 10000, 'full_name': 'Janvi Prajapati'}\n",
            "nclass space n  {'__module__': '__main__', 'mul_num': 1.2, '__init__': <function Leapx_org.__init__ at 0x7f61373839e0>, 'make_email': <function Leapx_org.make_email at 0x7f6137383560>, 'incrementpay': <function Leapx_org.incrementpay at 0x7f61373835f0>, '__dict__': <attribute '__dict__' of 'Leapx_org' objects>, '__weakref__': <attribute '__weakref__' of 'Leapx_org' objects>, '__doc__': None}\n",
            "1.3\n",
            "1.2\n",
            "1.2\n"
          ]
        }
      ]
    },
    {
      "cell_type": "code",
      "source": [
        "class Leapx_org():\n",
        "  mul_num = 1.20\n",
        "  def __init__(self,first,last,pay):\n",
        "    self.f_name = first\n",
        "    self.l_name = last\n",
        "    self.pay_amt = pay\n",
        "    self.full_name = first+\" \"+last\n",
        "    Leapx_org.count = Leapx_org.count+1\n",
        "  def make_email(self):\n",
        "    return self.f_name+self.l_name+\"@gmail.com\"\n",
        "  def incrementpay(self):\n",
        "    self.pay_amt = int(self.pay_amt*self.mul_num)\n",
        "    return self.pay_amt\n",
        "L_obj1 = Leapx_org('Yash','Prajapati',90000)\n",
        "L_obj2 = Leapx_org('Janvi','Prajapati',10000)\n",
        "L_obj3 = Leapx_org('Karan','Prajapati',10000)\n",
        "print(\"Number of employees are : \", Leapx_org.count)"
      ],
      "metadata": {
        "colab": {
          "base_uri": "https://localhost:8080/",
          "height": 356
        },
        "id": "0DXss1QIApnK",
        "outputId": "2e82493b-cb7d-487a-8070-75a279dd42ad"
      },
      "execution_count": null,
      "outputs": [
        {
          "output_type": "error",
          "ename": "AttributeError",
          "evalue": "ignored",
          "traceback": [
            "\u001b[0;31m---------------------------------------------------------------------------\u001b[0m",
            "\u001b[0;31mAttributeError\u001b[0m                            Traceback (most recent call last)",
            "\u001b[0;32m<ipython-input-27-341cdda7dee3>\u001b[0m in \u001b[0;36m<module>\u001b[0;34m()\u001b[0m\n\u001b[1;32m     12\u001b[0m     \u001b[0mself\u001b[0m\u001b[0;34m.\u001b[0m\u001b[0mpay_amt\u001b[0m \u001b[0;34m=\u001b[0m \u001b[0mint\u001b[0m\u001b[0;34m(\u001b[0m\u001b[0mself\u001b[0m\u001b[0;34m.\u001b[0m\u001b[0mpay_amt\u001b[0m\u001b[0;34m*\u001b[0m\u001b[0mself\u001b[0m\u001b[0;34m.\u001b[0m\u001b[0mmul_num\u001b[0m\u001b[0;34m)\u001b[0m\u001b[0;34m\u001b[0m\u001b[0;34m\u001b[0m\u001b[0m\n\u001b[1;32m     13\u001b[0m     \u001b[0;32mreturn\u001b[0m \u001b[0mself\u001b[0m\u001b[0;34m.\u001b[0m\u001b[0mpay_amt\u001b[0m\u001b[0;34m\u001b[0m\u001b[0;34m\u001b[0m\u001b[0m\n\u001b[0;32m---> 14\u001b[0;31m \u001b[0mL_obj1\u001b[0m \u001b[0;34m=\u001b[0m \u001b[0mLeapx_org\u001b[0m\u001b[0;34m(\u001b[0m\u001b[0;34m'Yash'\u001b[0m\u001b[0;34m,\u001b[0m\u001b[0;34m'Prajapati'\u001b[0m\u001b[0;34m,\u001b[0m\u001b[0;36m90000\u001b[0m\u001b[0;34m)\u001b[0m\u001b[0;34m\u001b[0m\u001b[0;34m\u001b[0m\u001b[0m\n\u001b[0m\u001b[1;32m     15\u001b[0m \u001b[0mL_obj2\u001b[0m \u001b[0;34m=\u001b[0m \u001b[0mLeapx_org\u001b[0m\u001b[0;34m(\u001b[0m\u001b[0;34m'Janvi'\u001b[0m\u001b[0;34m,\u001b[0m\u001b[0;34m'Prajapati'\u001b[0m\u001b[0;34m,\u001b[0m\u001b[0;36m10000\u001b[0m\u001b[0;34m)\u001b[0m\u001b[0;34m\u001b[0m\u001b[0;34m\u001b[0m\u001b[0m\n\u001b[1;32m     16\u001b[0m \u001b[0mL_obj3\u001b[0m \u001b[0;34m=\u001b[0m \u001b[0mLeapx_org\u001b[0m\u001b[0;34m(\u001b[0m\u001b[0;34m'Karan'\u001b[0m\u001b[0;34m,\u001b[0m\u001b[0;34m'Prajapati'\u001b[0m\u001b[0;34m,\u001b[0m\u001b[0;36m10000\u001b[0m\u001b[0;34m)\u001b[0m\u001b[0;34m\u001b[0m\u001b[0;34m\u001b[0m\u001b[0m\n",
            "\u001b[0;32m<ipython-input-27-341cdda7dee3>\u001b[0m in \u001b[0;36m__init__\u001b[0;34m(self, first, last, pay)\u001b[0m\n\u001b[1;32m      6\u001b[0m     \u001b[0mself\u001b[0m\u001b[0;34m.\u001b[0m\u001b[0mpay_amt\u001b[0m \u001b[0;34m=\u001b[0m \u001b[0mpay\u001b[0m\u001b[0;34m\u001b[0m\u001b[0;34m\u001b[0m\u001b[0m\n\u001b[1;32m      7\u001b[0m     \u001b[0mself\u001b[0m\u001b[0;34m.\u001b[0m\u001b[0mfull_name\u001b[0m \u001b[0;34m=\u001b[0m \u001b[0mfirst\u001b[0m\u001b[0;34m+\u001b[0m\u001b[0;34m\" \"\u001b[0m\u001b[0;34m+\u001b[0m\u001b[0mlast\u001b[0m\u001b[0;34m\u001b[0m\u001b[0;34m\u001b[0m\u001b[0m\n\u001b[0;32m----> 8\u001b[0;31m     \u001b[0mLeapx_org\u001b[0m\u001b[0;34m.\u001b[0m\u001b[0mcount\u001b[0m \u001b[0;34m=\u001b[0m \u001b[0mLeapx_org\u001b[0m\u001b[0;34m.\u001b[0m\u001b[0mcount\u001b[0m\u001b[0;34m+\u001b[0m\u001b[0;36m1\u001b[0m\u001b[0;34m\u001b[0m\u001b[0;34m\u001b[0m\u001b[0m\n\u001b[0m\u001b[1;32m      9\u001b[0m   \u001b[0;32mdef\u001b[0m \u001b[0mmake_email\u001b[0m\u001b[0;34m(\u001b[0m\u001b[0mself\u001b[0m\u001b[0;34m)\u001b[0m\u001b[0;34m:\u001b[0m\u001b[0;34m\u001b[0m\u001b[0;34m\u001b[0m\u001b[0m\n\u001b[1;32m     10\u001b[0m     \u001b[0;32mreturn\u001b[0m \u001b[0mself\u001b[0m\u001b[0;34m.\u001b[0m\u001b[0mf_name\u001b[0m\u001b[0;34m+\u001b[0m\u001b[0mself\u001b[0m\u001b[0;34m.\u001b[0m\u001b[0ml_name\u001b[0m\u001b[0;34m+\u001b[0m\u001b[0;34m\"@gmail.com\"\u001b[0m\u001b[0;34m\u001b[0m\u001b[0;34m\u001b[0m\u001b[0m\n",
            "\u001b[0;31mAttributeError\u001b[0m: type object 'Leapx_org' has no attribute 'count'"
          ]
        }
      ]
    },
    {
      "cell_type": "code",
      "source": [
        "# Class inheritance\n",
        "class Leapx_org():\n",
        "  mul_num = 1.20\n",
        "  count = 0\n",
        "  def __init__(self,first,last,pay):\n",
        "    self.f_name = first\n",
        "    self.l_name = last\n",
        "    self.pay_amt = pay\n",
        "    Leapx_org.count = Leapx_org.count+1\n",
        "  def make_email(self):\n",
        "    return self.f_name+self.l_name+\"@gmail.com\"\n",
        "  def incrementpay(self):\n",
        "    self.pay_amt = int(self.pay_amt*self.mul_num)\n",
        "    return self.pay_amt\n",
        "class instructor(Leapx_org):\n",
        "  pass\n",
        "I_obj1 = instructor('Yash','Prajapati',90000)\n",
        "I_obj2 = instructor('Janvi','Prajapati',10000)\n",
        "print(\"Number of employees are : \", instructor.count)\n",
        "print(I_obj1.make_email())\n",
        "print(I_obj2.make_email())\n"
      ],
      "metadata": {
        "colab": {
          "base_uri": "https://localhost:8080/"
        },
        "id": "AkN89wrdBOsD",
        "outputId": "d05a7e1a-fbac-41cb-f648-e82352e454e6"
      },
      "execution_count": null,
      "outputs": [
        {
          "output_type": "stream",
          "name": "stdout",
          "text": [
            "Number of employees are :  2\n",
            "YashPrajapati@gmail.com\n",
            "JanviPrajapati@gmail.com\n"
          ]
        }
      ]
    },
    {
      "cell_type": "code",
      "source": [
        "class Leapx_org():\n",
        "  mul_num = 1.20\n",
        "  count= 0\n",
        "  def __init__(self,first,last,pay):\n",
        "    self.f_name = first\n",
        "    self.l_name = last\n",
        "    self.pay_amt = pay\n",
        "    self.full_name = first+\" \"+last\n",
        "    Leapx_org.count = Leapx_org.count+1\n",
        "  def make_email(self):\n",
        "    return self.f_name+ \".\"+self.l_name+\"@xyz.com\"\n",
        "  def incrementpay(self):\n",
        "    self.pay_amt = int(self.pay_amt*self.mul_num)\n",
        "    return self.pay_amt\n",
        "class instructor(Leapx_org):\n",
        "  def __init__(self,first,last,pay, subject):\n",
        "    Leapx_org.__init__(self,first,last,pay)\n",
        "    self.subject = subject\n",
        "I_obj1 = instructor('mohit', 'RAJ', 60000, \"Python\")\n",
        "I_obj2 = instructor('Ravender', 'Dahiya',70000, \"Data Analytic\")\n",
        "print(I_obj1.make_email())\n",
        "print(I_obj1.subject)\n",
        "print(I_obj2.make_email())\n",
        "print(I_obj2.subject)\n"
      ],
      "metadata": {
        "colab": {
          "base_uri": "https://localhost:8080/"
        },
        "id": "fW1WSWuSDeFS",
        "outputId": "a593104b-2cdb-4e85-a659-dfd0e685967d"
      },
      "execution_count": null,
      "outputs": [
        {
          "output_type": "stream",
          "name": "stdout",
          "text": [
            "mohit.RAJ@xyz.com\n",
            "Python\n",
            "Ravender.Dahiya@xyz.com\n",
            "Data Analytic\n"
          ]
        }
      ]
    },
    {
      "cell_type": "code",
      "source": [
        "# Multiple inheritance\n",
        "class A():\n",
        "  def sum1(self,a,b):\n",
        "    c = a+b\n",
        "    return c\n",
        "class B():\n",
        "  def sub1(self,a,b):\n",
        "    c = a-b\n",
        "    return c\n",
        "class C(A,B):\n",
        "  pass\n",
        "c_obj = C()\n",
        "print(\"Sum is \", c_obj.sum1(12,4))\n",
        "print(\"After substraction \",c_obj.sub1(45,5))"
      ],
      "metadata": {
        "colab": {
          "base_uri": "https://localhost:8080/"
        },
        "id": "_GEroC_jEEpC",
        "outputId": "1027c634-1f32-442c-9598-23bb0d798a5f"
      },
      "execution_count": null,
      "outputs": [
        {
          "output_type": "stream",
          "name": "stdout",
          "text": [
            "Sum is  16\n",
            "After substraction  40\n"
          ]
        }
      ]
    },
    {
      "cell_type": "code",
      "source": [
        "# Multilevel inheritance\n",
        "class A():\n",
        "  def sum1(self,a,b):\n",
        "    c = a+b\n",
        "    return c\n",
        "class B(A):\n",
        "  pass\n",
        "class C(B):\n",
        "  pass\n",
        "c_obj = C()\n",
        "print(\"Sum is \", c_obj.sum1(12,4))"
      ],
      "metadata": {
        "colab": {
          "base_uri": "https://localhost:8080/"
        },
        "id": "pYU6Yo3tEYV7",
        "outputId": "833a2005-91b4-48df-95e6-00c24d03242a"
      },
      "execution_count": null,
      "outputs": [
        {
          "output_type": "stream",
          "name": "stdout",
          "text": [
            "Sum is  16\n"
          ]
        }
      ]
    },
    {
      "cell_type": "code",
      "source": [
        "# Overriding methods\n",
        "class A():\n",
        "  def sum1(self,a,b):\n",
        "    print(\"In class A\")\n",
        "    c = a+b\n",
        "    return c\n",
        "class B(A):\n",
        "  def sum1(self,a,b):\n",
        "    print(\"In class B\")\n",
        "    c= a*a+b*b\n",
        "    return c\n",
        "b_obj = B()\n",
        "print(B.__dict__)\n",
        "print(b_obj.sum1(4,5))"
      ],
      "metadata": {
        "colab": {
          "base_uri": "https://localhost:8080/"
        },
        "id": "N5-PVK8lEhxM",
        "outputId": "c92bf9c6-eecb-4a58-e763-934521540022"
      },
      "execution_count": null,
      "outputs": [
        {
          "output_type": "stream",
          "name": "stdout",
          "text": [
            "{'__module__': '__main__', 'sum1': <function B.sum1 at 0x7f613727bef0>, '__doc__': None}\n",
            "In class B\n",
            "41\n"
          ]
        }
      ]
    },
    {
      "cell_type": "code",
      "source": [
        "# Operator overloading\n",
        "\"M\"+\"R\""
      ],
      "metadata": {
        "colab": {
          "base_uri": "https://localhost:8080/",
          "height": 35
        },
        "id": "32SM_lOeEzVn",
        "outputId": "5202bcfe-ffda-40a2-c269-fcc96ee446bb"
      },
      "execution_count": null,
      "outputs": [
        {
          "output_type": "execute_result",
          "data": {
            "application/vnd.google.colaboratory.intrinsic+json": {
              "type": "string"
            },
            "text/plain": [
              "'MR'"
            ]
          },
          "metadata": {},
          "execution_count": 34
        }
      ]
    },
    {
      "cell_type": "code",
      "source": [
        "4+6"
      ],
      "metadata": {
        "colab": {
          "base_uri": "https://localhost:8080/"
        },
        "id": "4LOx70yAE8CJ",
        "outputId": "77cbc8ec-fcea-4936-a445-e82dd546bfbc"
      },
      "execution_count": null,
      "outputs": [
        {
          "output_type": "execute_result",
          "data": {
            "text/plain": [
              "10"
            ]
          },
          "metadata": {},
          "execution_count": 35
        }
      ]
    },
    {
      "cell_type": "code",
      "source": [
        "int.__add__(4,6)"
      ],
      "metadata": {
        "colab": {
          "base_uri": "https://localhost:8080/"
        },
        "id": "uszMB0PKE-kC",
        "outputId": "744ae366-7029-41d7-a262-58cb9af4acdf"
      },
      "execution_count": null,
      "outputs": [
        {
          "output_type": "execute_result",
          "data": {
            "text/plain": [
              "10"
            ]
          },
          "metadata": {},
          "execution_count": 36
        }
      ]
    },
    {
      "cell_type": "code",
      "source": [
        "str.__add__(\"M\",\"R\")"
      ],
      "metadata": {
        "colab": {
          "base_uri": "https://localhost:8080/",
          "height": 35
        },
        "id": "W8G6UWhnFCyB",
        "outputId": "1f74fc21-9a3b-4d8a-c78a-85f1ed74bada"
      },
      "execution_count": null,
      "outputs": [
        {
          "output_type": "execute_result",
          "data": {
            "application/vnd.google.colaboratory.intrinsic+json": {
              "type": "string"
            },
            "text/plain": [
              "'MR'"
            ]
          },
          "metadata": {},
          "execution_count": 37
        }
      ]
    },
    {
      "cell_type": "code",
      "source": [
        "class Leapx_org():\n",
        "  def __init__(self,first,last,pay):\n",
        "    self.f_name = first\n",
        "    self.l_name = last\n",
        "    self.pay_amt = pay\n",
        "    self.full_name = first+\" \"+last\n",
        "  def make_email(self):\n",
        "    return self.f_name+ \".\"+self.l_name+\"@xyz.com\"\n",
        "L_obj1 = Leapx_org('mohit', 'RAJ', 60000)\n",
        "L_obj2 = Leapx_org('Ravender', 'Dahiya',70000)\n",
        "print(L_obj1 + L_obj2)"
      ],
      "metadata": {
        "colab": {
          "base_uri": "https://localhost:8080/",
          "height": 200
        },
        "id": "aU1wGs1IFGwz",
        "outputId": "7ee63cc1-17e8-47b5-fce8-83a7d021dbe1"
      },
      "execution_count": null,
      "outputs": [
        {
          "output_type": "error",
          "ename": "TypeError",
          "evalue": "ignored",
          "traceback": [
            "\u001b[0;31m---------------------------------------------------------------------------\u001b[0m",
            "\u001b[0;31mTypeError\u001b[0m                                 Traceback (most recent call last)",
            "\u001b[0;32m<ipython-input-39-f4c5ccede692>\u001b[0m in \u001b[0;36m<module>\u001b[0;34m()\u001b[0m\n\u001b[1;32m      9\u001b[0m \u001b[0mL_obj1\u001b[0m \u001b[0;34m=\u001b[0m \u001b[0mLeapx_org\u001b[0m\u001b[0;34m(\u001b[0m\u001b[0;34m'mohit'\u001b[0m\u001b[0;34m,\u001b[0m \u001b[0;34m'RAJ'\u001b[0m\u001b[0;34m,\u001b[0m \u001b[0;36m60000\u001b[0m\u001b[0;34m)\u001b[0m\u001b[0;34m\u001b[0m\u001b[0;34m\u001b[0m\u001b[0m\n\u001b[1;32m     10\u001b[0m \u001b[0mL_obj2\u001b[0m \u001b[0;34m=\u001b[0m \u001b[0mLeapx_org\u001b[0m\u001b[0;34m(\u001b[0m\u001b[0;34m'Ravender'\u001b[0m\u001b[0;34m,\u001b[0m \u001b[0;34m'Dahiya'\u001b[0m\u001b[0;34m,\u001b[0m\u001b[0;36m70000\u001b[0m\u001b[0;34m)\u001b[0m\u001b[0;34m\u001b[0m\u001b[0;34m\u001b[0m\u001b[0m\n\u001b[0;32m---> 11\u001b[0;31m \u001b[0mprint\u001b[0m\u001b[0;34m(\u001b[0m\u001b[0mL_obj1\u001b[0m \u001b[0;34m+\u001b[0m \u001b[0mL_obj2\u001b[0m\u001b[0;34m)\u001b[0m\u001b[0;34m\u001b[0m\u001b[0;34m\u001b[0m\u001b[0m\n\u001b[0m",
            "\u001b[0;31mTypeError\u001b[0m: unsupported operand type(s) for +: 'Leapx_org' and 'Leapx_org'"
          ]
        }
      ]
    },
    {
      "cell_type": "code",
      "source": [
        "class Leapx_org():\n",
        "  def __init__(self,first,last,pay):\n",
        "    self.f_name = first\n",
        "    self.l_name = last\n",
        "    self.pay_amt = pay\n",
        "    self.full_name = first+\" \"+last\n",
        "  def make_email(self):\n",
        "    return self.f_name+ \".\"+self.l_name+\"@xyz.com\"\n",
        "  def __add__(self,other):\n",
        "    result = self.pay_amt+ other.pay_amt\n",
        "    return result\n",
        "L_obj1 = Leapx_org('mohit', 'RAJ', 60000)\n",
        "L_obj2 = Leapx_org('Ravender', 'Dahiya',70000)\n",
        "print(L_obj1+L_obj2)"
      ],
      "metadata": {
        "colab": {
          "base_uri": "https://localhost:8080/"
        },
        "id": "S1so5CDdFRz2",
        "outputId": "626c2659-05de-443a-9102-4541322d7d8c"
      },
      "execution_count": null,
      "outputs": [
        {
          "output_type": "stream",
          "name": "stdout",
          "text": [
            "130000\n"
          ]
        }
      ]
    },
    {
      "cell_type": "code",
      "source": [
        "class Leapx_org():\n",
        "  def __init__(self,first,last,pay):\n",
        "    self.f_name = first\n",
        "    self.l_name = last\n",
        "    self.pay_amt = pay\n",
        "    self.full_name = first+\" \"+last\n",
        "  def make_email(self):\n",
        "    return self.f_name+ \".\"+self.l_name+\"@xyz.com\"\n",
        "  def __gt__(self,other):\n",
        "    return self.pay_amt>=other.pay_amt\n",
        "L_obj1 = Leapx_org('mohit', 'RAJ',60000)\n",
        "L_obj2 = Leapx_org('Ravender', 'Dahiya',70000)\n",
        "print(L_obj1>L_obj2)"
      ],
      "metadata": {
        "colab": {
          "base_uri": "https://localhost:8080/"
        },
        "id": "u3jYEcEBFrVz",
        "outputId": "61567ecc-7f45-4958-9e47-8036a2210060"
      },
      "execution_count": null,
      "outputs": [
        {
          "output_type": "stream",
          "name": "stdout",
          "text": [
            "False\n"
          ]
        }
      ]
    },
    {
      "cell_type": "code",
      "source": [
        "class Leapx_org():\n",
        "  def __init__(self,first,last,pay):\n",
        "    self.f_name = first\n",
        "    self.l_name = last\n",
        "    self.pay_amt = pay\n",
        "    self.full_name = first+\" \"+last\n",
        "  def make_email(self):\n",
        "    return self.f_name+ \".\"+self.l_name+\"@xyz.com\"\n",
        "L_obj1 = Leapx_org('mohit', 'RAJ',60000)\n",
        "print(L_obj1)\n",
        "print(\"n\")\n",
        "print(\"Lenght is \",len(L_obj1))"
      ],
      "metadata": {
        "colab": {
          "base_uri": "https://localhost:8080/",
          "height": 235
        },
        "id": "ZwY5cg_7Fz3h",
        "outputId": "80c55a5d-9d1c-489a-d64b-a90eed870686"
      },
      "execution_count": null,
      "outputs": [
        {
          "output_type": "stream",
          "name": "stdout",
          "text": [
            "<__main__.Leapx_org object at 0x7f613ae6b410>\n",
            "n\n"
          ]
        },
        {
          "output_type": "error",
          "ename": "TypeError",
          "evalue": "ignored",
          "traceback": [
            "\u001b[0;31m---------------------------------------------------------------------------\u001b[0m",
            "\u001b[0;31mTypeError\u001b[0m                                 Traceback (most recent call last)",
            "\u001b[0;32m<ipython-input-42-d0be7f2a8436>\u001b[0m in \u001b[0;36m<module>\u001b[0;34m()\u001b[0m\n\u001b[1;32m     10\u001b[0m \u001b[0mprint\u001b[0m\u001b[0;34m(\u001b[0m\u001b[0mL_obj1\u001b[0m\u001b[0;34m)\u001b[0m\u001b[0;34m\u001b[0m\u001b[0;34m\u001b[0m\u001b[0m\n\u001b[1;32m     11\u001b[0m \u001b[0mprint\u001b[0m\u001b[0;34m(\u001b[0m\u001b[0;34m\"n\"\u001b[0m\u001b[0;34m)\u001b[0m\u001b[0;34m\u001b[0m\u001b[0;34m\u001b[0m\u001b[0m\n\u001b[0;32m---> 12\u001b[0;31m \u001b[0mprint\u001b[0m\u001b[0;34m(\u001b[0m\u001b[0;34m\"Lenght is \"\u001b[0m\u001b[0;34m,\u001b[0m\u001b[0mlen\u001b[0m\u001b[0;34m(\u001b[0m\u001b[0mL_obj1\u001b[0m\u001b[0;34m)\u001b[0m\u001b[0;34m)\u001b[0m\u001b[0;34m\u001b[0m\u001b[0;34m\u001b[0m\u001b[0m\n\u001b[0m",
            "\u001b[0;31mTypeError\u001b[0m: object of type 'Leapx_org' has no len()"
          ]
        }
      ]
    },
    {
      "cell_type": "code",
      "source": [
        "class Leapx_org():\n",
        "  def __init__(self,first,last,pay):\n",
        "    self.f_name = first\n",
        "    self.l_name = last\n",
        "    self.pay_amt = pay\n",
        "    self.full_name = first+\" \"+last\n",
        "  def make_email(self):\n",
        "    return self.f_name+ \".\"+self.l_name+\"@xyz.com\"\n",
        "  def __str__(self):\n",
        "    str1 = \"instance belongs to \"+self.full_name\n",
        "    return str1\n",
        "  def __len__(self):\n",
        "    return len(self.f_name+self.l_name)\n",
        "L_obj1 = Leapx_org('mohit', 'RAJ',60000)\n",
        "print(L_obj1)\n",
        "print(\"n\")\n",
        "print(\"Lenght is \",len(L_obj1))"
      ],
      "metadata": {
        "colab": {
          "base_uri": "https://localhost:8080/"
        },
        "id": "KU3mzIjQF-pV",
        "outputId": "a31c211a-e4b5-46db-e843-4d9382fc9b54"
      },
      "execution_count": null,
      "outputs": [
        {
          "output_type": "stream",
          "name": "stdout",
          "text": [
            "instance belongs to mohit RAJ\n",
            "n\n",
            "Lenght is  8\n"
          ]
        }
      ]
    },
    {
      "cell_type": "code",
      "source": [
        "# The class method\n",
        "class Leapx_org():\n",
        "  mul_num = 1.20\n",
        "  def __init__(self,first,last,pay):\n",
        "    self.f_name = first\n",
        "    self.l_name = last\n",
        "    self.pay_amt = pay\n",
        "    self.full_name = first+\" \"+last\n",
        "  def make_email(self):\n",
        "    return self.f_name+ \".\"+self.l_name+\"@xyz.com\"\n",
        "  def incrementpay(self):\n",
        "    self.pay_amt = int(self.pay_amt*self.mul_num)\n",
        "    return self.pay_amt\n",
        "  @classmethod\n",
        "  def mul_num_set(cls, amt):\n",
        "    cls.mul_num=amt\n",
        "L_obj1 = Leapx_org('mohit', 'RAJ', 60000)\n",
        "L_obj2 = Leapx_org('Ravender', 'Dahiya',70000)\n",
        "Leapx_org.mul_num_set(1.40)\n",
        "print(L_obj1.mul_num)\n",
        "print(L_obj2.mul_num)"
      ],
      "metadata": {
        "colab": {
          "base_uri": "https://localhost:8080/"
        },
        "id": "cXIdvE6aGP5M",
        "outputId": "d81bf45d-9d87-4841-fffa-3f152a00f4ba"
      },
      "execution_count": null,
      "outputs": [
        {
          "output_type": "stream",
          "name": "stdout",
          "text": [
            "1.4\n",
            "1.4\n"
          ]
        }
      ]
    },
    {
      "cell_type": "code",
      "source": [
        "# The static method\n",
        "class Leapx_org():\n",
        "  mul_num = 1.20\n",
        "  mul_num2 = 1.30\n",
        "  def __init__(self,first,last,pay):\n",
        "    self.f_name = first\n",
        "    self.l_name = last\n",
        "    self.pay_amt = pay\n",
        "    self.full_name = first+\" \"+last\n",
        "  @staticmethod\n",
        "  def check_amt(amt):\n",
        "    if amt <50000:\n",
        "      return True\n",
        "    else :\n",
        "      return False\n",
        "  def incrementpay(self):\n",
        "    if self.check_amt(self.pay_amt):\n",
        "      self.pay_amt = int(self.pay_amt*self.mul_num2)\n",
        "    else :\n",
        "      self.pay_amt = int(self.pay_amt*self.mul_num)\n",
        "      return self.pay_amt\n",
        "L_obj1 = Leapx_org('mohit', 'RAJ', 40000)\n",
        "L_obj2 = Leapx_org('Ravender', 'Dahiya',70000)\n",
        "L_obj1.incrementpay()\n",
        "L_obj2.incrementpay()\n",
        "print(L_obj1.pay_amt)\n",
        "print(L_obj2.pay_amt)\n"
      ],
      "metadata": {
        "colab": {
          "base_uri": "https://localhost:8080/"
        },
        "id": "EMymMo-2GiYN",
        "outputId": "bfda1bf3-117d-42a8-f30d-1f62f3b9e775"
      },
      "execution_count": null,
      "outputs": [
        {
          "output_type": "stream",
          "name": "stdout",
          "text": [
            "52000\n",
            "84000\n"
          ]
        }
      ]
    },
    {
      "cell_type": "code",
      "source": [
        "# The private variable\n",
        "class A:\n",
        "  __amount = 45\n",
        "  def __info(self):\n",
        "    print(\"I am in Class A\")\n",
        "  def hello(self):\n",
        "    print(\"Amount is \",A.__amount)\n",
        "a = A()\n",
        "a.hello()\n",
        "a.__info()\n",
        "a.__amount"
      ],
      "metadata": {
        "colab": {
          "base_uri": "https://localhost:8080/",
          "height": 235
        },
        "id": "rizJWfLDG9Y-",
        "outputId": "bc5d1435-e1c3-4b64-cb9e-4619d62c0871"
      },
      "execution_count": null,
      "outputs": [
        {
          "output_type": "stream",
          "name": "stdout",
          "text": [
            "Amount is  45\n"
          ]
        },
        {
          "output_type": "error",
          "ename": "AttributeError",
          "evalue": "ignored",
          "traceback": [
            "\u001b[0;31m---------------------------------------------------------------------------\u001b[0m",
            "\u001b[0;31mAttributeError\u001b[0m                            Traceback (most recent call last)",
            "\u001b[0;32m<ipython-input-51-53ee9a2566df>\u001b[0m in \u001b[0;36m<module>\u001b[0;34m()\u001b[0m\n\u001b[1;32m      8\u001b[0m \u001b[0ma\u001b[0m \u001b[0;34m=\u001b[0m \u001b[0mA\u001b[0m\u001b[0;34m(\u001b[0m\u001b[0;34m)\u001b[0m\u001b[0;34m\u001b[0m\u001b[0;34m\u001b[0m\u001b[0m\n\u001b[1;32m      9\u001b[0m \u001b[0ma\u001b[0m\u001b[0;34m.\u001b[0m\u001b[0mhello\u001b[0m\u001b[0;34m(\u001b[0m\u001b[0;34m)\u001b[0m\u001b[0;34m\u001b[0m\u001b[0;34m\u001b[0m\u001b[0m\n\u001b[0;32m---> 10\u001b[0;31m \u001b[0ma\u001b[0m\u001b[0;34m.\u001b[0m\u001b[0m__info\u001b[0m\u001b[0;34m(\u001b[0m\u001b[0;34m)\u001b[0m\u001b[0;34m\u001b[0m\u001b[0;34m\u001b[0m\u001b[0m\n\u001b[0m\u001b[1;32m     11\u001b[0m \u001b[0ma\u001b[0m\u001b[0;34m.\u001b[0m\u001b[0m__amount\u001b[0m\u001b[0;34m\u001b[0m\u001b[0;34m\u001b[0m\u001b[0m\n",
            "\u001b[0;31mAttributeError\u001b[0m: 'A' object has no attribute '__info'"
          ]
        }
      ]
    },
    {
      "cell_type": "code",
      "source": [
        "class A:\n",
        "  __amount = 45\n",
        "  def __info(self):\n",
        "    print(\"I am in Class A\")\n",
        "  def hello(self):\n",
        "    print(\"Amount is \",A.__amount)\n",
        "a = A()\n",
        "a.hello()\n",
        "a._A__info()\n",
        "print(a._A__amount)"
      ],
      "metadata": {
        "colab": {
          "base_uri": "https://localhost:8080/"
        },
        "id": "YSeRNld8HS3-",
        "outputId": "69339bae-aa3b-4a95-d5ab-9b3585fa4e8d"
      },
      "execution_count": null,
      "outputs": [
        {
          "output_type": "stream",
          "name": "stdout",
          "text": [
            "Amount is  45\n",
            "I am in Class A\n",
            "45\n"
          ]
        }
      ]
    },
    {
      "cell_type": "markdown",
      "source": [
        "# 3. Write a program to implement a class which has at least two methods: which inputs the string from the user and displays it in upper case"
      ],
      "metadata": {
        "id": "zYrqw_fmIJq2"
      }
    },
    {
      "cell_type": "code",
      "source": [
        "class IOString():\n",
        "  def __init__(self):\n",
        "    self.str1 = \"\"\n",
        "  def GetString(self):\n",
        "    self.str1 = input()\n",
        "  def PrintString(self):\n",
        "    print(self.str1.upper())\n",
        "str1 = IOString()\n",
        "str1.GetString()\n",
        "str1.PrintString()"
      ],
      "metadata": {
        "colab": {
          "base_uri": "https://localhost:8080/"
        },
        "id": "3lb2OODQHfRP",
        "outputId": "352452d3-cd58-4462-977d-c6585745f751"
      },
      "execution_count": null,
      "outputs": [
        {
          "output_type": "stream",
          "name": "stdout",
          "text": [
            "Yash Prajapati\n",
            "YASH PRAJAPATI\n"
          ]
        }
      ]
    },
    {
      "cell_type": "markdown",
      "source": [
        "# 4. Write a program to define a class named Rectangle which can be constructed by a length and width. The Rectangle class has a method which can compute the area."
      ],
      "metadata": {
        "id": "FFYIVA9TJRCN"
      }
    },
    {
      "cell_type": "code",
      "source": [
        "class Rectangle():\n",
        "  def __init__(self, L, W):\n",
        "    self.length = L\n",
        "    self.width = W\n",
        "  def AreaOfRectangle(self):\n",
        "    return self.length*self.width\n",
        "newRectangle = Rectangle(12,5)\n",
        "print(newRectangle.AreaOfRectangle())"
      ],
      "metadata": {
        "colab": {
          "base_uri": "https://localhost:8080/"
        },
        "id": "aJp-xF0TJLPQ",
        "outputId": "89c3deb8-dc63-4492-9625-896d823adbdd"
      },
      "execution_count": null,
      "outputs": [
        {
          "output_type": "stream",
          "name": "stdout",
          "text": [
            "60\n"
          ]
        }
      ]
    },
    {
      "cell_type": "markdown",
      "source": [
        "# 5. Write a program to implement class to display factorial of a number"
      ],
      "metadata": {
        "id": "ehOs17gRKLna"
      }
    },
    {
      "cell_type": "code",
      "source": [
        "class Factorial:\n",
        "  def fact(self,n):\n",
        "    f = 1\n",
        "    for i in range(1, n+1):\n",
        "      f = f*i\n",
        "    return f\n",
        "n = int(input(\"Enter number here - \"))\n",
        "obj = Factorial()\n",
        "f = obj.fact(n)\n",
        "print(\"Factorial is \",f)"
      ],
      "metadata": {
        "colab": {
          "base_uri": "https://localhost:8080/"
        },
        "id": "z8mfH1ywKIME",
        "outputId": "f65d3504-a71f-487e-8162-023950567feb"
      },
      "execution_count": null,
      "outputs": [
        {
          "output_type": "stream",
          "name": "stdout",
          "text": [
            "Enter number here - 5\n",
            "Factorial is  120\n"
          ]
        }
      ]
    },
    {
      "cell_type": "markdown",
      "source": [
        "# 6. Write a program to implement class bubble sort."
      ],
      "metadata": {
        "id": "Ih0KG8_zMIT6"
      }
    },
    {
      "cell_type": "code",
      "source": [
        "class BubbleSort:\n",
        "  def Bsort(self, arr):\n",
        "    n = len(arr)\n",
        "    for i in range(n):\n",
        "      for j in range(0,n-i-1):\n",
        "        if arr[j]>arr[j+1]:\n",
        "          t = arr[j]\n",
        "          arr[j] = arr[j+1]\n",
        "          arr[j+1] = t\n",
        "      print(\"Sorted array is \",data)\n",
        "data = [12,38,67,11,34,89,90]\n",
        "obj = BubbleSort()\n",
        "obj.Bsort(data)"
      ],
      "metadata": {
        "colab": {
          "base_uri": "https://localhost:8080/"
        },
        "id": "fuk_RKaEL57Z",
        "outputId": "f42585bd-e69d-4dd7-c821-c1da90c49a02"
      },
      "execution_count": null,
      "outputs": [
        {
          "output_type": "stream",
          "name": "stdout",
          "text": [
            "Sorted array is  [12, 38, 11, 34, 67, 89, 90]\n",
            "Sorted array is  [12, 11, 34, 38, 67, 89, 90]\n",
            "Sorted array is  [11, 12, 34, 38, 67, 89, 90]\n",
            "Sorted array is  [11, 12, 34, 38, 67, 89, 90]\n",
            "Sorted array is  [11, 12, 34, 38, 67, 89, 90]\n",
            "Sorted array is  [11, 12, 34, 38, 67, 89, 90]\n",
            "Sorted array is  [11, 12, 34, 38, 67, 89, 90]\n"
          ]
        }
      ]
    },
    {
      "cell_type": "markdown",
      "source": [
        "# 7. Write a program to implement class to display palindrome of a number"
      ],
      "metadata": {
        "id": "syfy6rZZO3FY"
      }
    },
    {
      "cell_type": "code",
      "source": [
        "class Palindrome:\n",
        "  def __init__(self,n):\n",
        "    self.num = n\n",
        "  def isPalindrome(self):\n",
        "    temp = self.num\n",
        "    result = 0\n",
        "    while(temp != 0):\n",
        "      rem = temp % 10\n",
        "      result = result * 10 + rem\n",
        "      temp //= 10\n",
        "    if self.num == result:\n",
        "      print(self.num,\"is palindrome\")\n",
        "    else:\n",
        "      print(self.num,\"is not palindrome\")\n",
        "if __name__ == \"__main__\":\n",
        "  num = int(input(\"Enter number here - \"))\n",
        "  check = Palindrome(num)\n",
        "  check.isPalindrome()\n"
      ],
      "metadata": {
        "colab": {
          "base_uri": "https://localhost:8080/"
        },
        "id": "6M2IvbeoO73B",
        "outputId": "60cb9568-182b-420b-a512-e2a6deffe25b"
      },
      "execution_count": null,
      "outputs": [
        {
          "output_type": "stream",
          "name": "stdout",
          "text": [
            "Enter number here - 121\n",
            "121 is palindrome\n"
          ]
        }
      ]
    },
    {
      "cell_type": "markdown",
      "source": [
        "# 8. Write a program to implement class to display reverse of a number"
      ],
      "metadata": {
        "id": "9RAwTB1qRRvV"
      }
    },
    {
      "cell_type": "code",
      "source": [
        "class Reverse:\n",
        "  def rev(self,num):\n",
        "    rev = 0\n",
        "    while num > 0:\n",
        "      r = num % 10\n",
        "      rev = rev * 10 + r\n",
        "      num = int(num/10)\n",
        "    return rev\n",
        "num = int(input(\"Enter Number here - \"))\n",
        "obj = Reverse()\n",
        "rev = obj.rev(num)\n",
        "print(\"Rever of the given number is - \", rev)\n"
      ],
      "metadata": {
        "colab": {
          "base_uri": "https://localhost:8080/"
        },
        "id": "mO_v9LmkQmR7",
        "outputId": "f86e45f9-6e1d-4ec6-f58f-8ebfa3b55e43"
      },
      "execution_count": null,
      "outputs": [
        {
          "output_type": "stream",
          "name": "stdout",
          "text": [
            "Enter Number here - 123456789\n",
            "Rever of the given number is -  987654321\n"
          ]
        }
      ]
    }
  ]
}